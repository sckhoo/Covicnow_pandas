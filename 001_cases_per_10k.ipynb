{
 "cells": [
  {
   "cell_type": "markdown",
   "id": "8e77f2b8",
   "metadata": {},
   "source": [
    "\n",
    "# generating cases per 10K people chart reversed engineer from CovicNow website"
   ]
  },
  {
   "cell_type": "markdown",
   "id": "0bceef80",
   "metadata": {},
   "source": [
    "# importing packages needed to run the scripts"
   ]
  },
  {
   "cell_type": "code",
   "execution_count": 1,
   "id": "2e21062d",
   "metadata": {},
   "outputs": [],
   "source": [
    "import datetime\n",
    "import pandas as pd\n",
    "import matplotlib.pyplot as plt\n",
    "import seaborn as sns\n",
    "%matplotlib inline\n",
    "\n",
    "over_population = 10000"
   ]
  },
  {
   "cell_type": "markdown",
   "id": "e06ae0d2",
   "metadata": {},
   "source": [
    "# MoH Covic19 Github data - State new cases daily update"
   ]
  },
  {
   "cell_type": "code",
   "execution_count": 2,
   "id": "c59236a1",
   "metadata": {},
   "outputs": [],
   "source": [
    "url_state_case = 'https://raw.githubusercontent.com/MoH-Malaysia/covid19-public/main/epidemic/cases_state.csv'\n",
    "df_state_case = pd.read_csv(url_state_case, index_col=0)"
   ]
  },
  {
   "cell_type": "markdown",
   "id": "756fb7a8",
   "metadata": {},
   "source": [
    "# MoH Covic19 Github data - population - to get the list of states and the population"
   ]
  },
  {
   "cell_type": "code",
   "execution_count": 3,
   "id": "b4f30eed",
   "metadata": {},
   "outputs": [],
   "source": [
    "url_population = 'https://raw.githubusercontent.com/MoH-Malaysia/covid19-public/main/static/population.csv'\n",
    "df_population = pd.read_csv(url_population, index_col='state')\n",
    "df_population.rename(columns = {'pop': 'population'}, inplace = True)\n",
    "\n",
    "df_population = df_population.drop('idxs', axis=1)\n",
    "state_name_list = [state for state in df_population.index if state != 'Malaysia']"
   ]
  },
  {
   "cell_type": "markdown",
   "id": "958b340c",
   "metadata": {},
   "source": [
    "# MoH Covic19 Github data - country - to get the country data"
   ]
  },
  {
   "cell_type": "code",
   "execution_count": 4,
   "id": "05b99490",
   "metadata": {},
   "outputs": [],
   "source": [
    "url_country_case = 'https://raw.githubusercontent.com/MoH-Malaysia/covid19-public/main/epidemic/cases_malaysia.csv'\n",
    "df_country_case = pd.read_csv(url_country_case)"
   ]
  },
  {
   "cell_type": "markdown",
   "id": "2edbd039",
   "metadata": {},
   "source": [
    "# calculate new cases value for whole country"
   ]
  },
  {
   "cell_type": "code",
   "execution_count": 5,
   "id": "b484cf3d",
   "metadata": {},
   "outputs": [],
   "source": [
    "#print('Malaysia',round(df_country_case.tail(14).cases_new.sum()/(df_population.loc['Malaysia'].population/1000),1))\n",
    "case_per_1k  = {}\n",
    "# case_per_1k['Malaysia'] = round(df_country_case.tail(14).cases_new.sum()/(df_population.loc['Malaysia'].population/over_population),1)\n",
    "malaysia_value = round(df_country_case.tail(14).cases_new.sum()/(df_population.loc['Malaysia'].population/over_population),1)"
   ]
  },
  {
   "cell_type": "markdown",
   "id": "aa343628",
   "metadata": {},
   "source": [
    "# calculate new cases value for Klang Valley"
   ]
  },
  {
   "cell_type": "code",
   "execution_count": 6,
   "id": "296aee49",
   "metadata": {},
   "outputs": [],
   "source": [
    "kv_population = df_population.loc['Selangor'].population + \\\n",
    "                df_population.loc['W.P. Kuala Lumpur'].population + \\\n",
    "                df_population.loc['W.P. Putrajaya'].population\n",
    "kv_new_cases = df_state_case[df_state_case.state.eq('Selangor')].cases_new.tail(14).sum() + \\\n",
    "                df_state_case[df_state_case.state.eq('W.P. Kuala Lumpur')].cases_new.tail(14).sum() + \\\n",
    "                df_state_case[df_state_case.state.eq('W.P. Putrajaya')].cases_new.tail(14).sum()\n",
    "case_per_1k['Klang Vly.'] = round(kv_new_cases/(kv_population/over_population),1)"
   ]
  },
  {
   "cell_type": "markdown",
   "id": "22eca698",
   "metadata": {},
   "source": [
    "# calculate new cases value for each state and store in dictionary"
   ]
  },
  {
   "cell_type": "code",
   "execution_count": 7,
   "id": "be192bfb",
   "metadata": {},
   "outputs": [],
   "source": [
    "for state in sorted(state_name_list):\n",
    "    state_population = df_population.loc[state].population\n",
    "    newcases_total = df_state_case[df_state_case.state.eq(state)].cases_new.tail(14).sum()\n",
    "    case_per_1k[state] = round(newcases_total/(state_population/over_population), 1)"
   ]
  },
  {
   "cell_type": "markdown",
   "id": "55c40117",
   "metadata": {},
   "source": [
    "# sort the dictionary base on the new cases value"
   ]
  },
  {
   "cell_type": "code",
   "execution_count": 8,
   "id": "1f8d2c77",
   "metadata": {},
   "outputs": [],
   "source": [
    "case_per_1k_sorted = {k: v for k, v in sorted(case_per_1k.items(), key=lambda item: item[1], reverse=True)}"
   ]
  },
  {
   "cell_type": "markdown",
   "id": "108bec3c",
   "metadata": {},
   "source": [
    "# plotting the bar chart. add Malaysia to the first line"
   ]
  },
  {
   "cell_type": "code",
   "execution_count": 10,
   "id": "3f7417a3",
   "metadata": {},
   "outputs": [
    {
     "data": {
      "text/plain": [
       "<AxesSubplot:>"
      ]
     },
     "execution_count": 10,
     "metadata": {},
     "output_type": "execute_result"
    },
    {
     "data": {
      "image/png": "[encoded data removed]",
      "text/plain": [
       "<Figure size 1152x864 with 1 Axes>"
      ]
     },
     "metadata": {
      "needs_background": "light"
     },
     "output_type": "display_data"
    }
   ],
   "source": [
    "keys = list(case_per_1k_sorted.keys())\n",
    "keys_my = ['Malaysia'] + keys\n",
    "# get values in the same order as keys, and parse percentage values\n",
    "vals = [float(case_per_1k_sorted[k]) for k in keys]\n",
    "vals_my = [malaysia_value] + vals\n",
    "\n",
    "fig, ax = plt.subplots(figsize=(16,12))\n",
    "sns.barplot(y=keys_my, x=vals_my, color='Blue')\n"
   ]
  },
  {
   "cell_type": "code",
   "execution_count": null,
   "id": "94871829",
   "metadata": {},
   "outputs": [],
   "source": []
  }
 ],
 "metadata": {
  "kernelspec": {
   "display_name": "Python 3",
   "language": "python",
   "name": "python3"
  },
  "language_info": {
   "codemirror_mode": {
    "name": "ipython",
    "version": 3
   },
   "file_extension": ".py",
   "mimetype": "text/x-python",
   "name": "python",
   "nbconvert_exporter": "python",
   "pygments_lexer": "ipython3",
   "version": "3.8.8"
  }
 },
 "nbformat": 4,
 "nbformat_minor": 5
}
