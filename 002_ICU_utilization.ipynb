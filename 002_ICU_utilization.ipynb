{
 "cells": [
  {
   "cell_type": "markdown",
   "id": "08c6b825",
   "metadata": {},
   "source": [
    "# Create a bar chart of latest ICU utilization for every state, including the whole country and Klang Valley (KL+Putrajaya+Selangor)"
   ]
  },
  {
   "cell_type": "markdown",
   "id": "2f111224",
   "metadata": {},
   "source": [
    "# importing packages needed to run the scripts"
   ]
  },
  {
   "cell_type": "code",
   "execution_count": 1,
   "id": "5ed6c205",
   "metadata": {},
   "outputs": [],
   "source": [
    "import numpy as np\n",
    "import pandas as pd\n",
    "import matplotlib.pyplot as plt \n",
    "import seaborn as sns\n",
    "\n",
    "%matplotlib inline\n",
    "%reload_ext autoreload\n",
    "%autoreload 2"
   ]
  },
  {
   "cell_type": "markdown",
   "id": "def20a07",
   "metadata": {},
   "source": [
    "# MoH Covic19 Github data - ICU data by states"
   ]
  },
  {
   "cell_type": "code",
   "execution_count": 2,
   "id": "fe6895ab",
   "metadata": {},
   "outputs": [
    {
     "data": {
      "text/plain": [
       "10551"
      ]
     },
     "execution_count": 2,
     "metadata": {},
     "output_type": "execute_result"
    }
   ],
   "source": [
    "# note the total number of rows in the dataframe\n",
    "url_state_icu = 'https://raw.githubusercontent.com/MoH-Malaysia/covid19-public/main/epidemic/icu.csv'\n",
    "icu_df = pd.read_csv(url_state_icu)\n",
    "len(icu_df)"
   ]
  },
  {
   "cell_type": "code",
   "execution_count": 3,
   "id": "518c52fc",
   "metadata": {},
   "outputs": [
    {
     "data": {
      "text/plain": [
       "Index(['date', 'state', 'beds_icu', 'beds_icu_rep', 'beds_icu_total',\n",
       "       'beds_icu_covid', 'vent', 'vent_port', 'icu_covid', 'icu_pui',\n",
       "       'icu_noncovid', 'vent_covid', 'vent_pui', 'vent_noncovid', 'vent_used',\n",
       "       'vent_port_used'],\n",
       "      dtype='object')"
      ]
     },
     "execution_count": 3,
     "metadata": {},
     "output_type": "execute_result"
    }
   ],
   "source": [
    "icu_df.columns"
   ]
  },
  {
   "cell_type": "markdown",
   "id": "e389ea71",
   "metadata": {},
   "source": [
    "# to find out the latest data's date, to filter out only the final day"
   ]
  },
  {
   "cell_type": "code",
   "execution_count": 4,
   "id": "8459eafc",
   "metadata": {},
   "outputs": [
    {
     "data": {
      "text/plain": [
       "'2022-02-05'"
      ]
     },
     "execution_count": 4,
     "metadata": {},
     "output_type": "execute_result"
    }
   ],
   "source": [
    "last_date = icu_df.iloc[-1]['date']\n",
    "last_date"
   ]
  },
  {
   "cell_type": "code",
   "execution_count": 5,
   "id": "83e72ff9",
   "metadata": {},
   "outputs": [
    {
     "data": {
      "text/plain": [
       "16"
      ]
     },
     "execution_count": 5,
     "metadata": {},
     "output_type": "execute_result"
    }
   ],
   "source": [
    "# note the number of row in the data frame. \n",
    "state_last_date_df = icu_df[icu_df['date']==last_date]\n",
    "len(state_last_date_df)"
   ]
  },
  {
   "cell_type": "markdown",
   "id": "4f7c025e",
   "metadata": {},
   "source": [
    "# the number from CovicNow is total of all ICU, including PUI and NonCovic"
   ]
  },
  {
   "cell_type": "code",
   "execution_count": 6,
   "id": "b9686ef5",
   "metadata": {},
   "outputs": [],
   "source": [
    "# create an empty list\n",
    "icu_total_patient = []\n",
    "# calculate the total and add to the list\n",
    "icu_total_patient = state_last_date_df['icu_covid'] + state_last_date_df['icu_pui'] + state_last_date_df['icu_noncovid']"
   ]
  },
  {
   "cell_type": "markdown",
   "id": "79622266",
   "metadata": {},
   "source": [
    "# add the total into the data frame and create a new DF without unnecessary columns"
   ]
  },
  {
   "cell_type": "code",
   "execution_count": 7,
   "id": "67e2bdfc",
   "metadata": {},
   "outputs": [],
   "source": [
    "# add the list into the data frame\n",
    "state_last_date_df.insert(4, 'icu_total_patient', icu_total_patient, True)"
   ]
  },
  {
   "cell_type": "code",
   "execution_count": 8,
   "id": "4a87f261",
   "metadata": {},
   "outputs": [],
   "source": [
    "# remove column that is not relevant. \n",
    "simplified_state_last_date_df = state_last_date_df[['state', 'icu_total_patient', 'beds_icu_total']]"
   ]
  },
  {
   "cell_type": "markdown",
   "id": "8d1c65bd",
   "metadata": {},
   "source": [
    "# need to create additional row for 'Klang Valley'"
   ]
  },
  {
   "cell_type": "code",
   "execution_count": 9,
   "id": "db61071a",
   "metadata": {},
   "outputs": [],
   "source": [
    "kv_icu_total_patient = simplified_state_last_date_df[simplified_state_last_date_df['state']=='Selangor'].icu_total_patient.values \\\n",
    "                        + simplified_state_last_date_df[simplified_state_last_date_df['state']=='W.P. Kuala Lumpur'].icu_total_patient.values \\\n",
    "                        + simplified_state_last_date_df[simplified_state_last_date_df['state']=='W.P. Putrajaya'].icu_total_patient.values"
   ]
  },
  {
   "cell_type": "code",
   "execution_count": 10,
   "id": "388aa440",
   "metadata": {},
   "outputs": [],
   "source": [
    "kv_beds_icu_total = simplified_state_last_date_df[simplified_state_last_date_df['state']=='Selangor'].beds_icu_total.values \\\n",
    "                        + simplified_state_last_date_df[simplified_state_last_date_df['state']=='W.P. Kuala Lumpur'].beds_icu_total.values \\\n",
    "                        + simplified_state_last_date_df[simplified_state_last_date_df['state']=='W.P. Putrajaya'].beds_icu_total.values"
   ]
  },
  {
   "cell_type": "code",
   "execution_count": 11,
   "id": "4e89dca6",
   "metadata": {},
   "outputs": [
    {
     "data": {
      "text/plain": [
       "{'state': 'Klang Valley', 'icu_total_patient': 195, 'beds_icu_total': 306}"
      ]
     },
     "execution_count": 11,
     "metadata": {},
     "output_type": "execute_result"
    }
   ],
   "source": [
    "kv_dict = {'state':'Klang Valley',\n",
    "        'icu_total_patient':kv_icu_total_patient[0],\n",
    "        'beds_icu_total':kv_beds_icu_total[0]\n",
    "       }\n",
    "kv_dict"
   ]
  },
  {
   "cell_type": "markdown",
   "id": "bd0dcb72",
   "metadata": {},
   "source": [
    "# calculate total for the whole country before insert 'Klang Valley' number to not double count"
   ]
  },
  {
   "cell_type": "code",
   "execution_count": 12,
   "id": "1358549d",
   "metadata": {},
   "outputs": [],
   "source": [
    "simplified_state_last_date_df.reset_index(drop=True, inplace=True)"
   ]
  },
  {
   "cell_type": "code",
   "execution_count": 13,
   "id": "ba600ac3",
   "metadata": {},
   "outputs": [],
   "source": [
    "my_icu_total_patient = simplified_state_last_date_df.sum(axis=0).icu_total_patient\n",
    "my_beds_icu_total = simplified_state_last_date_df.sum(axis=0).beds_icu_total"
   ]
  },
  {
   "cell_type": "markdown",
   "id": "f9c26784",
   "metadata": {},
   "source": [
    "# Add 'Klang Valley' number into the data frame to include into the chart"
   ]
  },
  {
   "cell_type": "code",
   "execution_count": 14,
   "id": "4acf0d91",
   "metadata": {},
   "outputs": [],
   "source": [
    "simplified_state_last_date_df = simplified_state_last_date_df.append(kv_dict, ignore_index = True)"
   ]
  },
  {
   "cell_type": "markdown",
   "id": "ff08ae94",
   "metadata": {},
   "source": [
    "# calculate the ICU utilization for every states, including klang valley"
   ]
  },
  {
   "cell_type": "code",
   "execution_count": 15,
   "id": "98cb810e",
   "metadata": {},
   "outputs": [
    {
     "data": {
      "text/plain": [
       "Index(['state', 'icu_total_patient', 'beds_icu_total'], dtype='object')"
      ]
     },
     "execution_count": 15,
     "metadata": {},
     "output_type": "execute_result"
    }
   ],
   "source": [
    "# display all columns\n",
    "simplified_state_last_date_df.columns"
   ]
  },
  {
   "cell_type": "code",
   "execution_count": 16,
   "id": "4e35badc",
   "metadata": {},
   "outputs": [],
   "source": [
    "# calculate the 'icu tilization' number in percentage, one decimal point\n",
    "simplified_state_last_date_df['icu_utilization'] = \\\n",
    "    round((simplified_state_last_date_df.icu_total_patient/simplified_state_last_date_df.beds_icu_total)*100, 1)"
   ]
  },
  {
   "cell_type": "code",
   "execution_count": 17,
   "id": "9cb91e2f",
   "metadata": {},
   "outputs": [
    {
     "data": {
      "text/plain": [
       "Index(['state', 'icu_total_patient', 'beds_icu_total', 'icu_utilization'], dtype='object')"
      ]
     },
     "execution_count": 17,
     "metadata": {},
     "output_type": "execute_result"
    }
   ],
   "source": [
    "# display all columns to show that new columns was added\n",
    "simplified_state_last_date_df.columns"
   ]
  },
  {
   "cell_type": "code",
   "execution_count": 18,
   "id": "1e0c80c1",
   "metadata": {},
   "outputs": [],
   "source": [
    "# sort the data frame based on the value of 'icu_utilization' in descending order, before adding Malaysia data. \n",
    "simplified_state_last_date_df = simplified_state_last_date_df.sort_values('icu_utilization', ascending=False)"
   ]
  },
  {
   "cell_type": "markdown",
   "id": "72e6c5e3",
   "metadata": {},
   "source": [
    "# extract the data from data frame, adding 'Malaysia' data for charting purpose"
   ]
  },
  {
   "cell_type": "code",
   "execution_count": 19,
   "id": "e7cb8fde",
   "metadata": {},
   "outputs": [],
   "source": [
    "# read data from data frame into a list, and add Malaysia to the top of the list\n",
    "state_list = list(simplified_state_last_date_df.state.values)\n",
    "icu_utilization_list = list(simplified_state_last_date_df.icu_utilization.values)"
   ]
  },
  {
   "cell_type": "code",
   "execution_count": 20,
   "id": "b56fd9dc",
   "metadata": {},
   "outputs": [],
   "source": [
    "# read data from data frame into a list, and calculate Malaysia value and add to the top of the list\n",
    "final_list = ['Malaysia'] + state_list\n",
    "final_icu_utilization = [round((my_icu_total_patient/my_beds_icu_total)*100,1)] + icu_utilization_list"
   ]
  },
  {
   "cell_type": "markdown",
   "id": "e2d91d5b",
   "metadata": {},
   "source": [
    "# draw the bar chart"
   ]
  },
  {
   "cell_type": "code",
   "execution_count": 21,
   "id": "8c51992c",
   "metadata": {},
   "outputs": [
    {
     "data": {
      "image/png": "[encoded data removed]",
      "text/plain": [
       "<Figure size 1152x576 with 1 Axes>"
      ]
     },
     "metadata": {
      "needs_background": "light"
     },
     "output_type": "display_data"
    }
   ],
   "source": [
    "plt.figure(figsize=(16,8))\n",
    "ax = sns.barplot(x=final_list, y=final_icu_utilization, color='Black')\n",
    "plt.xticks(rotation=70)\n",
    "\n",
    "for index, value in enumerate(final_list):\n",
    "    ax.text(index, final_icu_utilization[index]+1, \n",
    "            final_icu_utilization[index],\n",
    "            color='Black', ha='center')"
   ]
  },
  {
   "cell_type": "code",
   "execution_count": null,
   "id": "57711c77",
   "metadata": {},
   "outputs": [],
   "source": []
  }
 ],
 "metadata": {
  "kernelspec": {
   "display_name": "Python 3",
   "language": "python",
   "name": "python3"
  },
  "language_info": {
   "codemirror_mode": {
    "name": "ipython",
    "version": 3
   },
   "file_extension": ".py",
   "mimetype": "text/x-python",
   "name": "python",
   "nbconvert_exporter": "python",
   "pygments_lexer": "ipython3",
   "version": "3.8.8"
  }
 },
 "nbformat": 4,
 "nbformat_minor": 5
}
